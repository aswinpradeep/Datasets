{
  "nbformat": 4,
  "nbformat_minor": 0,
  "metadata": {
    "colab": {
      "name": "En-Hi_ParrllelCleaner.ipynb",
      "provenance": []
    },
    "kernelspec": {
      "name": "python3",
      "display_name": "Python 3"
    }
  },
  "cells": [
    {
      "cell_type": "code",
      "metadata": {
        "id": "HA1WZ9ymoDwk",
        "outputId": "d38adbc3-4dd9-4811-c6be-9e8c43a44e8e",
        "colab": {
          "base_uri": "https://localhost:8080/",
          "height": 34
        }
      },
      "source": [
        "print(\"hello\")"
      ],
      "execution_count": 1,
      "outputs": [
        {
          "output_type": "stream",
          "text": [
            "hello\n"
          ],
          "name": "stdout"
        }
      ]
    },
    {
      "cell_type": "code",
      "metadata": {
        "id": "jdi2z3hYop7B"
      },
      "source": [
        "!pip install langdetect"
      ],
      "execution_count": null,
      "outputs": []
    },
    {
      "cell_type": "code",
      "metadata": {
        "id": "5lNFDs68otoY"
      },
      "source": [
        "import pathlib\n",
        "import matplotlib.pyplot as plt\n",
        "import numpy as np\n",
        "import pandas as pd\n",
        "from langdetect import detect ,detect_langs ,DetectorFactory\n",
        "DetectorFactory.seed = 0"
      ],
      "execution_count": 3,
      "outputs": []
    },
    {
      "cell_type": "code",
      "metadata": {
        "id": "8WRfI8OhoxtX"
      },
      "source": [
        "dataset_path1=\"https://github.com/aswinpradeep/Datasets/blob/master/pib-parallel-sentences-en-hi-2020%20-%202020.csv?raw=true\""
      ],
      "execution_count": 5,
      "outputs": []
    },
    {
      "cell_type": "code",
      "metadata": {
        "id": "qTUkcsEgo5sA",
        "outputId": "8febcdee-972e-4150-e54b-ecbb38aa7739",
        "colab": {
          "base_uri": "https://localhost:8080/",
          "height": 406
        }
      },
      "source": [
        "column_names = ['ENGLISH','HINDI']\n",
        "df = pd.read_csv(dataset_path1, names=column_names, skipinitialspace=True)\n",
        "df = df[1:]\n",
        "df"
      ],
      "execution_count": 6,
      "outputs": [
        {
          "output_type": "execute_result",
          "data": {
            "text/html": [
              "<div>\n",
              "<style scoped>\n",
              "    .dataframe tbody tr th:only-of-type {\n",
              "        vertical-align: middle;\n",
              "    }\n",
              "\n",
              "    .dataframe tbody tr th {\n",
              "        vertical-align: top;\n",
              "    }\n",
              "\n",
              "    .dataframe thead th {\n",
              "        text-align: right;\n",
              "    }\n",
              "</style>\n",
              "<table border=\"1\" class=\"dataframe\">\n",
              "  <thead>\n",
              "    <tr style=\"text-align: right;\">\n",
              "      <th></th>\n",
              "      <th>ENGLISH</th>\n",
              "      <th>HINDI</th>\n",
              "    </tr>\n",
              "  </thead>\n",
              "  <tbody>\n",
              "    <tr>\n",
              "      <th>1</th>\n",
              "      <td>The President of India, Shri Ram Nath Kovind, ...</td>\n",
              "      <td>राष्ट्रपति श्री राम नाथ कोविंद कल (1 फरवरी, 20...</td>\n",
              "    </tr>\n",
              "    <tr>\n",
              "      <th>2</th>\n",
              "      <td>I once again extend my best wishes for the New...</td>\n",
              "      <td>नए वर्ष की शुभकामनाओं के साथ, सभी संसद सदस्यों...</td>\n",
              "    </tr>\n",
              "    <tr>\n",
              "      <th>3</th>\n",
              "      <td>2. This decade is extremely important for India.</td>\n",
              "      <td>2. यह दशक भारत के लिए बहुत महत्वपूर्ण है।</td>\n",
              "    </tr>\n",
              "    <tr>\n",
              "      <th>4</th>\n",
              "      <td>In this decade, we will complete 75 years of o...</td>\n",
              "      <td>इस दशक में, हमारी स्वतंत्रता के 75 वर्ष पूरे ह...</td>\n",
              "    </tr>\n",
              "    <tr>\n",
              "      <th>5</th>\n",
              "      <td>With the efforts of my Government, a strong fo...</td>\n",
              "      <td>मेरी सरकार के प्रयासों से पिछले पाँच वर्षों मे...</td>\n",
              "    </tr>\n",
              "    <tr>\n",
              "      <th>...</th>\n",
              "      <td>...</td>\n",
              "      <td>...</td>\n",
              "    </tr>\n",
              "    <tr>\n",
              "      <th>57747</th>\n",
              "      <td>Mental health impacts cognitive, emotional, so...</td>\n",
              "      <td>मानसिक स्वास्थ्य ज्ञान संबंधी, भावनात्मक, सामा...</td>\n",
              "    </tr>\n",
              "    <tr>\n",
              "      <th>57748</th>\n",
              "      <td>This guide encourages people to never ignore s...</td>\n",
              "      <td>यह मार्गदर्शक मानसिक बीमारियों के लक्षणों की अ...</td>\n",
              "    </tr>\n",
              "    <tr>\n",
              "      <th>57749</th>\n",
              "      <td>Socio-cultural stigma is one of the key reason...</td>\n",
              "      <td>सामाजिक-सांस्कृतिक बदनामी ऐसी कुछ वजहों में से...</td>\n",
              "    </tr>\n",
              "    <tr>\n",
              "      <th>57750</th>\n",
              "      <td>This guide aims to inform and motivate individ...</td>\n",
              "      <td>इस मार्गदर्शक का उद्देश्य लोगों को जागरूक करना...</td>\n",
              "    </tr>\n",
              "    <tr>\n",
              "      <th>57751</th>\n",
              "      <td>(Pl see attachmentsऐ ऍफ़ एम् सी_मानसिक स्वास्थ...</td>\n",
              "      <td>(कृपया अटैचमेंट देखें ऐ ऍफ़ एम् सी_मानसिक स्वा...</td>\n",
              "    </tr>\n",
              "  </tbody>\n",
              "</table>\n",
              "<p>57751 rows × 2 columns</p>\n",
              "</div>"
            ],
            "text/plain": [
              "                                                 ENGLISH                                              HINDI\n",
              "1      The President of India, Shri Ram Nath Kovind, ...  राष्ट्रपति श्री राम नाथ कोविंद कल (1 फरवरी, 20...\n",
              "2      I once again extend my best wishes for the New...  नए वर्ष की शुभकामनाओं के साथ, सभी संसद सदस्यों...\n",
              "3       2. This decade is extremely important for India.          2. यह दशक भारत के लिए बहुत महत्वपूर्ण है।\n",
              "4      In this decade, we will complete 75 years of o...  इस दशक में, हमारी स्वतंत्रता के 75 वर्ष पूरे ह...\n",
              "5      With the efforts of my Government, a strong fo...  मेरी सरकार के प्रयासों से पिछले पाँच वर्षों मे...\n",
              "...                                                  ...                                                ...\n",
              "57747  Mental health impacts cognitive, emotional, so...  मानसिक स्वास्थ्य ज्ञान संबंधी, भावनात्मक, सामा...\n",
              "57748  This guide encourages people to never ignore s...  यह मार्गदर्शक मानसिक बीमारियों के लक्षणों की अ...\n",
              "57749  Socio-cultural stigma is one of the key reason...  सामाजिक-सांस्कृतिक बदनामी ऐसी कुछ वजहों में से...\n",
              "57750  This guide aims to inform and motivate individ...  इस मार्गदर्शक का उद्देश्य लोगों को जागरूक करना...\n",
              "57751  (Pl see attachmentsऐ ऍफ़ एम् सी_मानसिक स्वास्थ...  (कृपया अटैचमेंट देखें ऐ ऍफ़ एम् सी_मानसिक स्वा...\n",
              "\n",
              "[57751 rows x 2 columns]"
            ]
          },
          "metadata": {
            "tags": []
          },
          "execution_count": 6
        }
      ]
    },
    {
      "cell_type": "code",
      "metadata": {
        "id": "26_XFHNQpnKC",
        "outputId": "fa83bb95-d760-4bbf-c42f-1a388e2ca526",
        "colab": {
          "base_uri": "https://localhost:8080/",
          "height": 34
        }
      },
      "source": [
        "df['HINDI'].nunique()"
      ],
      "execution_count": 8,
      "outputs": [
        {
          "output_type": "execute_result",
          "data": {
            "text/plain": [
              "55899"
            ]
          },
          "metadata": {
            "tags": []
          },
          "execution_count": 8
        }
      ]
    },
    {
      "cell_type": "code",
      "metadata": {
        "id": "UsYsSq_3ptR_",
        "outputId": "5992ddb6-53ec-493b-f7f8-1dc8efb108f7",
        "colab": {
          "base_uri": "https://localhost:8080/",
          "height": 406
        }
      },
      "source": [
        "df = df.drop_duplicates(subset='HINDI', keep=\"first\")\n",
        "df = df.drop_duplicates(subset='ENGLISH', keep=\"first\")\n",
        "\n",
        "df"
      ],
      "execution_count": 9,
      "outputs": [
        {
          "output_type": "execute_result",
          "data": {
            "text/html": [
              "<div>\n",
              "<style scoped>\n",
              "    .dataframe tbody tr th:only-of-type {\n",
              "        vertical-align: middle;\n",
              "    }\n",
              "\n",
              "    .dataframe tbody tr th {\n",
              "        vertical-align: top;\n",
              "    }\n",
              "\n",
              "    .dataframe thead th {\n",
              "        text-align: right;\n",
              "    }\n",
              "</style>\n",
              "<table border=\"1\" class=\"dataframe\">\n",
              "  <thead>\n",
              "    <tr style=\"text-align: right;\">\n",
              "      <th></th>\n",
              "      <th>ENGLISH</th>\n",
              "      <th>HINDI</th>\n",
              "    </tr>\n",
              "  </thead>\n",
              "  <tbody>\n",
              "    <tr>\n",
              "      <th>1</th>\n",
              "      <td>The President of India, Shri Ram Nath Kovind, ...</td>\n",
              "      <td>राष्ट्रपति श्री राम नाथ कोविंद कल (1 फरवरी, 20...</td>\n",
              "    </tr>\n",
              "    <tr>\n",
              "      <th>2</th>\n",
              "      <td>I once again extend my best wishes for the New...</td>\n",
              "      <td>नए वर्ष की शुभकामनाओं के साथ, सभी संसद सदस्यों...</td>\n",
              "    </tr>\n",
              "    <tr>\n",
              "      <th>3</th>\n",
              "      <td>2. This decade is extremely important for India.</td>\n",
              "      <td>2. यह दशक भारत के लिए बहुत महत्वपूर्ण है।</td>\n",
              "    </tr>\n",
              "    <tr>\n",
              "      <th>4</th>\n",
              "      <td>In this decade, we will complete 75 years of o...</td>\n",
              "      <td>इस दशक में, हमारी स्वतंत्रता के 75 वर्ष पूरे ह...</td>\n",
              "    </tr>\n",
              "    <tr>\n",
              "      <th>5</th>\n",
              "      <td>With the efforts of my Government, a strong fo...</td>\n",
              "      <td>मेरी सरकार के प्रयासों से पिछले पाँच वर्षों मे...</td>\n",
              "    </tr>\n",
              "    <tr>\n",
              "      <th>...</th>\n",
              "      <td>...</td>\n",
              "      <td>...</td>\n",
              "    </tr>\n",
              "    <tr>\n",
              "      <th>57747</th>\n",
              "      <td>Mental health impacts cognitive, emotional, so...</td>\n",
              "      <td>मानसिक स्वास्थ्य ज्ञान संबंधी, भावनात्मक, सामा...</td>\n",
              "    </tr>\n",
              "    <tr>\n",
              "      <th>57748</th>\n",
              "      <td>This guide encourages people to never ignore s...</td>\n",
              "      <td>यह मार्गदर्शक मानसिक बीमारियों के लक्षणों की अ...</td>\n",
              "    </tr>\n",
              "    <tr>\n",
              "      <th>57749</th>\n",
              "      <td>Socio-cultural stigma is one of the key reason...</td>\n",
              "      <td>सामाजिक-सांस्कृतिक बदनामी ऐसी कुछ वजहों में से...</td>\n",
              "    </tr>\n",
              "    <tr>\n",
              "      <th>57750</th>\n",
              "      <td>This guide aims to inform and motivate individ...</td>\n",
              "      <td>इस मार्गदर्शक का उद्देश्य लोगों को जागरूक करना...</td>\n",
              "    </tr>\n",
              "    <tr>\n",
              "      <th>57751</th>\n",
              "      <td>(Pl see attachmentsऐ ऍफ़ एम् सी_मानसिक स्वास्थ...</td>\n",
              "      <td>(कृपया अटैचमेंट देखें ऐ ऍफ़ एम् सी_मानसिक स्वा...</td>\n",
              "    </tr>\n",
              "  </tbody>\n",
              "</table>\n",
              "<p>55651 rows × 2 columns</p>\n",
              "</div>"
            ],
            "text/plain": [
              "                                                 ENGLISH                                              HINDI\n",
              "1      The President of India, Shri Ram Nath Kovind, ...  राष्ट्रपति श्री राम नाथ कोविंद कल (1 फरवरी, 20...\n",
              "2      I once again extend my best wishes for the New...  नए वर्ष की शुभकामनाओं के साथ, सभी संसद सदस्यों...\n",
              "3       2. This decade is extremely important for India.          2. यह दशक भारत के लिए बहुत महत्वपूर्ण है।\n",
              "4      In this decade, we will complete 75 years of o...  इस दशक में, हमारी स्वतंत्रता के 75 वर्ष पूरे ह...\n",
              "5      With the efforts of my Government, a strong fo...  मेरी सरकार के प्रयासों से पिछले पाँच वर्षों मे...\n",
              "...                                                  ...                                                ...\n",
              "57747  Mental health impacts cognitive, emotional, so...  मानसिक स्वास्थ्य ज्ञान संबंधी, भावनात्मक, सामा...\n",
              "57748  This guide encourages people to never ignore s...  यह मार्गदर्शक मानसिक बीमारियों के लक्षणों की अ...\n",
              "57749  Socio-cultural stigma is one of the key reason...  सामाजिक-सांस्कृतिक बदनामी ऐसी कुछ वजहों में से...\n",
              "57750  This guide aims to inform and motivate individ...  इस मार्गदर्शक का उद्देश्य लोगों को जागरूक करना...\n",
              "57751  (Pl see attachmentsऐ ऍफ़ एम् सी_मानसिक स्वास्थ...  (कृपया अटैचमेंट देखें ऐ ऍफ़ एम् सी_मानसिक स्वा...\n",
              "\n",
              "[55651 rows x 2 columns]"
            ]
          },
          "metadata": {
            "tags": []
          },
          "execution_count": 9
        }
      ]
    },
    {
      "cell_type": "code",
      "metadata": {
        "id": "jgoAuC4Jp2Ui"
      },
      "source": [
        "df[\"ENGLISH\"] =  df['ENGLISH'].str.replace('[^\\x00-\\x7F]','')\n",
        "df[\"ENGLISH\"] =  df['ENGLISH'].str.replace(';','.')\n",
        "df[\"HINDI\"] =  df['HINDI'].str.replace(';','.')\n"
      ],
      "execution_count": 10,
      "outputs": []
    },
    {
      "cell_type": "code",
      "metadata": {
        "id": "nbK0Sf5wp6mn"
      },
      "source": [
        "regList=[]\n",
        "regList.append('^[0-9]+\\.')\n",
        "regList.append('^[0-9]\\.')\n",
        "regList.append('^[(][0-9]+[)]')\n",
        "regList.append('^[0-9]+[)]')\n",
        "regList.append('^[(][a-zA-Z][)]')\n",
        "regList.append('^[a-zA-z]\\.')\n",
        "regList.append('^[a-zA-z][)]')\n",
        "regList.append('^[IVXLCDM]+\\.')\n",
        "regList.append('^[(][IVXLCDM]+[)]')\n",
        "regList.append('^[ivxlcdm]+\\.')\n",
        "regList.append('^[(][ivxlcdm]+[)]')\n",
        "regList.append('^[ivxlcdm]+[)]')\n",
        "regList.append('^-')\n",
        "regList.append('^·')\n",
        "regList.append('^●')\n",
        "regList.append('^o')\n",
        "regList.append('^Ø')\n",
        "regList.append('^•')\n",
        "regList.append('  +')\n",
        "\n",
        "\n",
        "for reg in regList:\n",
        "    df['HINDI']=df['HINDI'].str.replace(reg,'')"
      ],
      "execution_count": 13,
      "outputs": []
    },
    {
      "cell_type": "code",
      "metadata": {
        "id": "N2_i02ArqIdd"
      },
      "source": [
        "for reg in regList:\n",
        "    df['ENGLISH']=df['ENGLISH'].str.replace(reg,'')\n"
      ],
      "execution_count": 14,
      "outputs": []
    },
    {
      "cell_type": "code",
      "metadata": {
        "id": "9lq0crf2qcan"
      },
      "source": [
        "df['HINDI']=df['HINDI'].str.strip()\n",
        "df['ENGLISH']=df['ENGLISH'].str.strip()\n",
        "englishlist=df['ENGLISH'].to_list()\n",
        "hindilist=df['HINDI'].to_list()"
      ],
      "execution_count": 17,
      "outputs": []
    },
    {
      "cell_type": "code",
      "metadata": {
        "id": "zPgeaqElqkvz"
      },
      "source": [
        "newlanglist1 = []\n",
        "nonengcount1=0\n",
        "for title in englishlist:\n",
        "  try:\n",
        "    detlan=detect(title)\n",
        "    if(detlan!='en'):\n",
        "      newlanglist1.append(\"NA\")\n",
        "      nonengcount1=nonengcount1+1\n",
        "      print(title)\n",
        "    elif(detlan=='en'):\n",
        "      newlanglist1.append(title)\n",
        "\n",
        "     \n",
        "  except:\n",
        "    newlanglist1.append(\"NA\")\n",
        "    print(title)\n"
      ],
      "execution_count": null,
      "outputs": []
    },
    {
      "cell_type": "code",
      "metadata": {
        "id": "n_KWKDuorJxC"
      },
      "source": [
        "newlanglist2 = []\n",
        "nonengcount2=0\n",
        "for title in hindilist:\n",
        "  try:\n",
        "    detlan=detect(title)\n",
        "    if(detlan!='hi'):\n",
        "      newlanglist2.append(\"NA\")\n",
        "      nonengcount2=nonengcount2+1\n",
        "      print(title)\n",
        "    elif(detlan=='hi'):\n",
        "      newlanglist2.append(title)\n",
        "     \n",
        "  except:\n",
        "    newlanglist2.append(\"NA\")\n",
        "    print(title)"
      ],
      "execution_count": null,
      "outputs": []
    },
    {
      "cell_type": "code",
      "metadata": {
        "id": "b3mX-x-jrO_h"
      },
      "source": [
        "for i in range(len(newlanglist1)):\n",
        "    if(newlanglist1[i]==\"NA\" or newlanglist2[i]==\"NA\"):\n",
        "      newlanglist1[i]=\"\"\n",
        "      newlanglist2[i]=\"\""
      ],
      "execution_count": 20,
      "outputs": []
    },
    {
      "cell_type": "code",
      "metadata": {
        "id": "mU9yPE9Arj7s",
        "outputId": "f9d5785c-f8bf-47b1-adf2-a4179b149e8c",
        "colab": {
          "base_uri": "https://localhost:8080/",
          "height": 34
        }
      },
      "source": [
        "len(newlanglist1)"
      ],
      "execution_count": 21,
      "outputs": [
        {
          "output_type": "execute_result",
          "data": {
            "text/plain": [
              "55651"
            ]
          },
          "metadata": {
            "tags": []
          },
          "execution_count": 21
        }
      ]
    },
    {
      "cell_type": "code",
      "metadata": {
        "id": "y1owU-IhrsNw",
        "outputId": "d3a345b3-cb68-4b14-e2c7-1fdc77ba51ff",
        "colab": {
          "base_uri": "https://localhost:8080/",
          "height": 70
        }
      },
      "source": [
        "df.isnull().sum()"
      ],
      "execution_count": 22,
      "outputs": [
        {
          "output_type": "execute_result",
          "data": {
            "text/plain": [
              "ENGLISH    0\n",
              "HINDI      0\n",
              "dtype: int64"
            ]
          },
          "metadata": {
            "tags": []
          },
          "execution_count": 22
        }
      ]
    },
    {
      "cell_type": "code",
      "metadata": {
        "id": "bpbyJUoBsS4A"
      },
      "source": [
        "df['NEWENG']=newlanglist1\n",
        "df['NEWHIN']=newlanglist2"
      ],
      "execution_count": 23,
      "outputs": []
    },
    {
      "cell_type": "code",
      "metadata": {
        "id": "p3sTu9LGrs8n"
      },
      "source": [
        "df['NEWENG'].replace('', np.nan, inplace=True)\n",
        "df['NEWHIN'].replace('', np.nan, inplace=True)\n"
      ],
      "execution_count": 24,
      "outputs": []
    },
    {
      "cell_type": "code",
      "metadata": {
        "id": "_PwYfcYiseJQ"
      },
      "source": [
        "df.dropna(subset=['NEWENG'], inplace=True)"
      ],
      "execution_count": 25,
      "outputs": []
    },
    {
      "cell_type": "code",
      "metadata": {
        "id": "d4Va1kRTshyW"
      },
      "source": [
        "del df['ENGLISH']\n",
        "del df['HINDI']"
      ],
      "execution_count": 26,
      "outputs": []
    },
    {
      "cell_type": "code",
      "metadata": {
        "id": "_zf8kc83sk0n"
      },
      "source": [
        "from google.colab import files\n",
        "df.to_csv('final_en_hi_2020.csv', index=False) \n"
      ],
      "execution_count": 27,
      "outputs": []
    }
  ]
}